{
 "cells": [
  {
   "cell_type": "code",
   "execution_count": 1,
   "metadata": {},
   "outputs": [],
   "source": [
    "# from smarty.datasets import load_data, train_test_split\n",
    "# import numpy as np\n",
    "\n",
    "# ds = load_data(url=\"https://archive.ics.uci.edu/ml/machine-learning-databases/wine-quality/winequality-white.csv\", sep=\";\")"
   ]
  },
  {
   "cell_type": "code",
   "execution_count": 2,
   "metadata": {},
   "outputs": [],
   "source": [
    "from sklearn.datasets import load_breast_cancer\n",
    "import numpy as np\n",
    "\n",
    "ds = load_breast_cancer()"
   ]
  },
  {
   "cell_type": "code",
   "execution_count": 3,
   "metadata": {},
   "outputs": [],
   "source": [
    "ds = np.c_[ds.data, ds.target.reshape(-1, 1)]"
   ]
  },
  {
   "cell_type": "code",
   "execution_count": 4,
   "metadata": {},
   "outputs": [
    {
     "name": "stderr",
     "output_type": "stream",
     "text": [
      "/Users/user/Desktop/projects/ml/smarty/datasets/datasets.py:39: FutureWarning: elementwise comparison failed; returning scalar instead, but in the future will perform elementwise comparison\n",
      "  empty = np.where(col=='')[0]\n"
     ]
    }
   ],
   "source": [
    "from smarty.datasets import DataSet, train_test_split\n",
    "\n",
    "ds = DataSet().from_object(ds).batch(32).repeat(True)\n",
    "ds.set_target_classes(-1)\n",
    "\n",
    "train_ds, test_ds = train_test_split(ds)"
   ]
  },
  {
   "cell_type": "code",
   "execution_count": 5,
   "metadata": {},
   "outputs": [
    {
     "name": "stdout",
     "output_type": "stream",
     "text": [
      "<*><*><*><*><*><*><*><*><*><*><*><*><*><*><*>\n",
      "Starting training model for 20 epochs.\n",
      "Epoch 1/20\n",
      "\tStep 15/15 - loss: 0.7142857142857143, \n",
      "\n",
      "Epoch 2/20\n",
      "\tStep 15/15 - loss: 0.42857142857142855, \n",
      "\n",
      "Epoch 3/20\n",
      "\tStep 15/15 - loss: 0.42857142857142855, \n",
      "\n",
      "Epoch 4/20\n",
      "\tStep 15/15 - loss: 0.8571428571428571, \n",
      "\n",
      "Epoch 5/20\n",
      "\tStep 15/15 - loss: 0.8571428571428571, \n",
      "\n",
      "Epoch 6/20\n",
      "\tStep 15/15 - loss: 0.8571428571428571, \n",
      "\n",
      "Epoch 7/20\n",
      "\tStep 15/15 - loss: 0.8571428571428571, \n",
      "\n",
      "Epoch 8/20\n",
      "\tStep 15/15 - loss: 0.42857142857142855, \n",
      "\n",
      "Epoch 9/20\n",
      "\tStep 15/15 - loss: 1.0, , , \n",
      "\n",
      "Epoch 10/20\n",
      "\tStep 15/15 - loss: 0.42857142857142855, \n",
      "\n",
      "Epoch 11/20\n",
      "\tStep 15/15 - loss: 0.42857142857142855, \n",
      "\n",
      "Epoch 12/20\n",
      "\tStep 15/15 - loss: 0.42857142857142855, \n",
      "\n",
      "Epoch 13/20\n",
      "\tStep 15/15 - loss: 0.42857142857142855, \n",
      "\n",
      "Epoch 14/20\n",
      "\tStep 15/15 - loss: 0.42857142857142855, \n",
      "\n",
      "Epoch 15/20\n",
      "\tStep 15/15 - loss: 0.8571428571428571, \n",
      "\n",
      "Epoch 16/20\n",
      "\tStep 15/15 - loss: 0.7142857142857143, \n",
      "\n",
      "Epoch 17/20\n",
      "\tStep 15/15 - loss: 0.42857142857142855, \n",
      "\n",
      "Epoch 18/20\n",
      "\tStep 15/15 - loss: 0.42857142857142855, \n",
      "\n",
      "Epoch 19/20\n",
      "\tStep 15/15 - loss: 0.42857142857142855, \n",
      "\n",
      "Epoch 20/20\n",
      "\tStep 15/15 - loss: 0.42857142857142855, \n",
      "\n"
     ]
    },
    {
     "name": "stderr",
     "output_type": "stream",
     "text": [
      "/Users/user/Desktop/projects/ml/smarty/models/linear.py:58: RuntimeWarning: overflow encountered in exp\n",
      "  return (1.0 / (1.0 + np.exp(-y_pred))).astype(\"i\")\n"
     ]
    },
    {
     "data": {
      "text/plain": [
       "<smarty.models.linear.LogisticRegression at 0x104b70a90>"
      ]
     },
     "execution_count": 5,
     "metadata": {},
     "output_type": "execute_result"
    }
   ],
   "source": [
    "from smarty.models.linear import LogisticRegression\n",
    "from smarty.models.metrics import accuracy\n",
    "\n",
    "lr = LogisticRegression(learning_rate=0.01, loss=accuracy)\n",
    "lr.fit(train_ds, epochs=20)"
   ]
  },
  {
   "cell_type": "code",
   "execution_count": 6,
   "metadata": {},
   "outputs": [
    {
     "data": {
      "image/png": "[encoded data removed]",
      "text/plain": [
       "<Figure size 576x432 with 1 Axes>"
      ]
     },
     "metadata": {
      "needs_background": "light"
     },
     "output_type": "display_data"
    }
   ],
   "source": [
    "lr.plot_training()"
   ]
  },
  {
   "cell_type": "code",
   "execution_count": 9,
   "metadata": {},
   "outputs": [
    {
     "data": {
      "text/plain": [
       "[0.7142857142857143,\n",
       " 0.42857142857142855,\n",
       " 0.42857142857142855,\n",
       " 0.8571428571428571,\n",
       " 0.8571428571428571,\n",
       " 0.8571428571428571,\n",
       " 0.8571428571428571,\n",
       " 0.42857142857142855,\n",
       " 1.0,\n",
       " 0.42857142857142855,\n",
       " 0.42857142857142855,\n",
       " 0.42857142857142855,\n",
       " 0.42857142857142855,\n",
       " 0.42857142857142855,\n",
       " 0.8571428571428571,\n",
       " 0.7142857142857143,\n",
       " 0.42857142857142855,\n",
       " 0.42857142857142855,\n",
       " 0.42857142857142855,\n",
       " 0.42857142857142855]"
      ]
     },
     "execution_count": 9,
     "metadata": {},
     "output_type": "execute_result"
    }
   ],
   "source": [
    "lr.costs_"
   ]
  },
  {
   "cell_type": "code",
   "execution_count": 8,
   "metadata": {},
   "outputs": [
    {
     "name": "stdout",
     "output_type": "stream",
     "text": [
      "<*><*><*><*><*><*><*><*><*><*><*><*><*><*><*>\n",
      "Starting making predictions.\n",
      "Epoch 1/1\n",
      "\tStep 18/18\n",
      "\n",
      "Loss: 0.7785588752196837.\n"
     ]
    }
   ],
   "source": [
    "lr.evaluate(ds)"
   ]
  },
  {
   "cell_type": "code",
   "execution_count": 10,
   "metadata": {},
   "outputs": [
    {
     "name": "stdout",
     "output_type": "stream",
     "text": [
      "<*><*><*><*><*><*><*><*><*><*><*><*><*><*><*>\n",
      "Starting making predictions.\n",
      "Epoch 1/1\n",
      "\tStep 18/18\n",
      "\n"
     ]
    },
    {
     "name": "stderr",
     "output_type": "stream",
     "text": [
      "/Users/user/Desktop/projects/ml/smarty/models/linear.py:58: RuntimeWarning: overflow encountered in exp\n",
      "  return (1.0 / (1.0 + np.exp(-y_pred))).astype(\"i\")\n"
     ]
    }
   ],
   "source": [
    "y_pred = lr.predict(ds)"
   ]
  },
  {
   "cell_type": "code",
   "execution_count": 14,
   "metadata": {},
   "outputs": [],
   "source": [
    "x = np.c_[ds.get_target_classes(), y_pred]"
   ]
  },
  {
   "cell_type": "code",
   "execution_count": 17,
   "metadata": {},
   "outputs": [
    {
     "name": "stdout",
     "output_type": "stream",
     "text": [
      "<*><*><*><*><*><*><*><*><*><*><*><*><*><*><*>\n",
      "Starting training model for 1 epochs.\n",
      "Epoch 1/1\n",
      "\tStep 1/1\n",
      "\n",
      "<*><*><*><*><*><*><*><*><*><*><*><*><*><*><*>\n",
      "Starting making predictions.\n",
      "Epoch 1/1\n",
      "\tStep 1/1\n",
      "\n"
     ]
    },
    {
     "data": {
      "text/plain": [
       "0.5614035087719298"
      ]
     },
     "execution_count": 17,
     "metadata": {},
     "output_type": "execute_result"
    }
   ],
   "source": [
    "from smarty.models.dumb import evaluate_dumb\n",
    "evaluate_dumb(ds, metric=accuracy)"
   ]
  }
 ],
 "metadata": {
  "language_info": {
   "name": "python"
  },
  "orig_nbformat": 4
 },
 "nbformat": 4,
 "nbformat_minor": 2
}
