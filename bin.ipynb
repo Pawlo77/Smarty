{
 "cells": [
  {
   "cell_type": "code",
   "execution_count": 1,
   "metadata": {},
   "outputs": [],
   "source": [
    "from datasets import load_data\n",
    "import numpy as np"
   ]
  },
  {
   "cell_type": "code",
   "execution_count": 2,
   "metadata": {},
   "outputs": [],
   "source": [
    "ds = load_data(url=\"https://raw.githubusercontent.com/ihechiluru/Prima-Diabetes-Data-Set-Analysis-and-Visualization/main/diabetes.csv\")"
   ]
  },
  {
   "cell_type": "code",
   "execution_count": 3,
   "metadata": {},
   "outputs": [
    {
     "name": "stdout",
     "output_type": "stream",
     "text": [
      "\n",
      "DataSet at 0x1088c2470\n",
      "\tRows: 768\n",
      "\tCols: 9\n",
      "\n",
      "\tname           \t          dtype\n",
      "\tPregnancies    \t          uint8\n",
      "\tGlucose        \t          uint8\n",
      "\tBloodPressure  \t          uint8\n",
      "\tSkinThickness  \t          uint8\n",
      "\tInsulin        \t         uint16\n",
      "\tBMI            \t        float16\n",
      "\tDiabetesPedigreeFunction\t        float16\n",
      "\tAge            \t          uint8\n",
      "\tOutcome        \t          uint8\n",
      "\n"
     ]
    }
   ],
   "source": [
    "ds.info()"
   ]
  },
  {
   "cell_type": "code",
   "execution_count": 4,
   "metadata": {},
   "outputs": [],
   "source": [
    "ds.set_target_classes(\"Outcome\")"
   ]
  },
  {
   "cell_type": "code",
   "execution_count": 13,
   "metadata": {},
   "outputs": [],
   "source": [
    "from models.metrics import accuracy\n",
    "from models.dumb import evaluate_dumb\n",
    "\n",
    "scores = evaluate_dumb(ds, metric=accuracy, mode=\"zero\", sampling_method=\"cross_val\", folds=5)"
   ]
  },
  {
   "cell_type": "code",
   "execution_count": 14,
   "metadata": {},
   "outputs": [
    {
     "data": {
      "text/plain": [
       "0.6522875816993463"
      ]
     },
     "execution_count": 14,
     "metadata": {},
     "output_type": "execute_result"
    }
   ],
   "source": [
    "np.mean(scores)"
   ]
  }
 ],
 "metadata": {
  "kernelspec": {
   "display_name": "Python 3.10.4 ('ML')",
   "language": "python",
   "name": "python3"
  },
  "language_info": {
   "codemirror_mode": {
    "name": "ipython",
    "version": 3
   },
   "file_extension": ".py",
   "mimetype": "text/x-python",
   "name": "python",
   "nbconvert_exporter": "python",
   "pygments_lexer": "ipython3",
   "version": "3.10.4"
  },
  "orig_nbformat": 4,
  "vscode": {
   "interpreter": {
    "hash": "4efdce27b01dda23802f9019223ae4142015490b9d4311347546f2c4d3f7a2c1"
   }
  }
 },
 "nbformat": 4,
 "nbformat_minor": 2
}
