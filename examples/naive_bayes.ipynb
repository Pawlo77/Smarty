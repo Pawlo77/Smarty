{
 "cells": [
  {
   "cell_type": "code",
   "execution_count": 1,
   "metadata": {},
   "outputs": [],
   "source": [
    "import setup"
   ]
  },
  {
   "cell_type": "code",
   "execution_count": 2,
   "metadata": {},
   "outputs": [],
   "source": [
    "from smarty.datasets import load_data\n",
    "\n",
    "ds = load_data(\"datasets/iris.txt\").batch(32).shuffle(1000)"
   ]
  },
  {
   "cell_type": "code",
   "execution_count": 3,
   "metadata": {},
   "outputs": [
    {
     "name": "stdout",
     "output_type": "stream",
     "text": [
      "\n",
      "DataSet at 0x104da6770\n",
      "\tRows: 150\n",
      "\tCols: 5\n",
      "\n",
      "\tname           \t          dtype\n",
      "\tsepal_length   \t        float32\n",
      "\tsepal_width    \t        float32\n",
      "\tpetal_length   \t        float32\n",
      "\tpetal_width    \t        float32\n",
      "\tspecies        \t           <U10\n",
      "\n"
     ]
    }
   ],
   "source": [
    "ds.info()"
   ]
  },
  {
   "cell_type": "code",
   "execution_count": 4,
   "metadata": {},
   "outputs": [
    {
     "name": "stderr",
     "output_type": "stream",
     "text": [
      "/Users/user/Desktop/projects/ml/examples/./../smarty/datasets/datasets.py:44: FutureWarning: elementwise comparison failed; returning scalar instead, but in the future will perform elementwise comparison\n",
      "  empty = np.where(col=='')[0]\n"
     ]
    }
   ],
   "source": [
    "# naive bayes as all models don't accept categorical values, however here we use accuracy as metric\n",
    "# so we can encode species only with simple encoder (naive bayes accepts only one target class)\n",
    "\n",
    "from smarty.preprocessing.categorical import SimpleEncoder\n",
    "\n",
    "encoder = SimpleEncoder()\n",
    "target = ds.drop_c(\"species\")\n",
    "target = encoder.fit_transform(target.numpy())\n",
    "ds.add_c(target, \"species\")"
   ]
  },
  {
   "cell_type": "code",
   "execution_count": 5,
   "metadata": {},
   "outputs": [
    {
     "name": "stdout",
     "output_type": "stream",
     "text": [
      "\n",
      "First 5 rows of DataSet at 0x104da6770:\n",
      "        sepal_length     sepal_width      petal_length     petal_width      species          \n",
      "     0  5.099999904632568  3.5              1.399999976158142  0.20000000298023224  0                \n",
      "     1  4.900000095367432  3.0              1.399999976158142  0.20000000298023224  0                \n",
      "     2  4.699999809265137  3.200000047683716  1.2999999523162842  0.20000000298023224  0                \n",
      "     3  4.599999904632568  3.0999999046325684  1.5              0.20000000298023224  0                \n",
      "     4  5.0              3.5999999046325684  1.399999976158142  0.20000000298023224  0                \n",
      "\n"
     ]
    },
    {
     "data": {
      "text/plain": []
     },
     "execution_count": 5,
     "metadata": {},
     "output_type": "execute_result"
    }
   ],
   "source": [
    "# set target class as species (the last column in the ds, so we can use -1)\n",
    "ds.set_target_classes(-1)"
   ]
  },
  {
   "cell_type": "code",
   "execution_count": 6,
   "metadata": {},
   "outputs": [
    {
     "name": "stdout",
     "output_type": "stream",
     "text": [
      "<*><*><*><*><*><*><*><*><*><*><*><*><*><*><*>\n",
      "Starting training model for 1 epochs.\n",
      "Epoch 1/1\n",
      "\tStep 1/1 - accuracy: 0.96, \n",
      "\n"
     ]
    },
    {
     "data": {
      "text/plain": [
       "<smarty.models.naive.NaiveBayes at 0x104ebb820>"
      ]
     },
     "execution_count": 6,
     "metadata": {},
     "output_type": "execute_result"
    }
   ],
   "source": [
    "from smarty.models.naive import NaiveBayesCLassifier\n",
    "\n",
    "nb = NaiveBayes()\n",
    "nb.fit(ds)"
   ]
  },
  {
   "cell_type": "code",
   "execution_count": 7,
   "metadata": {},
   "outputs": [
    {
     "name": "stdout",
     "output_type": "stream",
     "text": [
      "<*><*><*><*><*><*><*><*><*><*><*><*><*><*><*>\n",
      "Starting making predictions.\n",
      "Epoch 1/1\n",
      "\tStep 5/5\n",
      "\n",
      "accuracy: 0.96.\n"
     ]
    },
    {
     "data": {
      "text/plain": [
       "{'accuracy': 0.96}"
      ]
     },
     "execution_count": 7,
     "metadata": {},
     "output_type": "execute_result"
    }
   ],
   "source": [
    "nb.evaluate(ds)"
   ]
  },
  {
   "cell_type": "code",
   "execution_count": 8,
   "metadata": {},
   "outputs": [
    {
     "name": "stdout",
     "output_type": "stream",
     "text": [
      "<*><*><*><*><*><*><*><*><*><*><*><*><*><*><*>\n",
      "Starting making predictions.\n",
      "Epoch 1/1\n",
      "\tStep 1/1\n",
      "\n",
      "accuracy: 1.0.\n"
     ]
    },
    {
     "data": {
      "text/plain": [
       "{'accuracy': 1.0}"
      ]
     },
     "execution_count": 8,
     "metadata": {},
     "output_type": "execute_result"
    }
   ],
   "source": [
    "# copy first 10 rows of ds and use them to evaluate the model\n",
    "new = ds.drop_r(slice(0, 10), False)\n",
    "nb.evaluate(new)"
   ]
  },
  {
   "cell_type": "code",
   "execution_count": 9,
   "metadata": {},
   "outputs": [
    {
     "name": "stdout",
     "output_type": "stream",
     "text": [
      "<*><*><*><*><*><*><*><*><*><*><*><*><*><*><*>\n",
      "Starting making predictions.\n",
      "Epoch 1/1\n",
      "\tStep 5/5\n",
      "\n"
     ]
    },
    {
     "data": {
      "image/png": "[encoded data removed]",
      "text/plain": [
       "<Figure size 864x576 with 1 Axes>"
      ]
     },
     "metadata": {
      "needs_background": "light"
     },
     "output_type": "display_data"
    }
   ],
   "source": [
    "nb.plot(ds)\n",
    "\n",
    "# although this plot in case of classification might look silly we can see linear\n",
    "# correlation between sepal length and species"
   ]
  }
 ],
 "metadata": {
  "kernelspec": {
   "display_name": "Python 3.10.4 ('ML')",
   "language": "python",
   "name": "python3"
  },
  "language_info": {
   "codemirror_mode": {
    "name": "ipython",
    "version": 3
   },
   "file_extension": ".py",
   "mimetype": "text/x-python",
   "name": "python",
   "nbconvert_exporter": "python",
   "pygments_lexer": "ipython3",
   "version": "3.10.4"
  },
  "orig_nbformat": 4,
  "vscode": {
   "interpreter": {
    "hash": "4efdce27b01dda23802f9019223ae4142015490b9d4311347546f2c4d3f7a2c1"
   }
  }
 },
 "nbformat": 4,
 "nbformat_minor": 2
}
