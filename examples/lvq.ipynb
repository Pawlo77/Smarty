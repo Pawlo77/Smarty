{
 "cells": [
  {
   "cell_type": "code",
   "execution_count": 1,
   "metadata": {},
   "outputs": [],
   "source": [
    "import setup"
   ]
  },
  {
   "cell_type": "code",
   "execution_count": 2,
   "metadata": {},
   "outputs": [
    {
     "name": "stdout",
     "output_type": "stream",
     "text": [
      "\n",
      "DataSet at 0x1087c96f0\n",
      "\tRows: 351\n",
      "\tCols: 35\n",
      "\n",
      "\tname           \t          dtype\n",
      "\t0              \t          uint8\n",
      "\t1              \t          uint8\n",
      "\t2              \t        float32\n",
      "\t3              \t        float32\n",
      "\t4              \t        float32\n",
      "\t5              \t        float32\n",
      "\t6              \t        float32\n",
      "\t7              \t        float32\n",
      "\t8              \t        float32\n",
      "\t9              \t        float32\n",
      "\t10             \t        float32\n",
      "\t11             \t        float32\n",
      "\t12             \t        float32\n",
      "\t13             \t        float32\n",
      "\t14             \t        float32\n",
      "\t15             \t        float32\n",
      "\t16             \t        float32\n",
      "\t17             \t        float32\n",
      "\t18             \t        float32\n",
      "\t19             \t        float32\n",
      "\t20             \t        float32\n",
      "\t21             \t        float32\n",
      "\t22             \t        float32\n",
      "\t23             \t        float32\n",
      "\t24             \t        float32\n",
      "\t25             \t        float32\n",
      "\t26             \t        float32\n",
      "\t27             \t        float32\n",
      "\t28             \t        float32\n",
      "\t29             \t        float32\n",
      "\t30             \t        float32\n",
      "\t31             \t        float32\n",
      "\t32             \t        float32\n",
      "\t33             \t        float32\n",
      "\t34             \t            <U1\n",
      "\n"
     ]
    }
   ],
   "source": [
    "from smarty.datasets import load_data\n",
    "\n",
    "ds = load_data(\"datasets/ionosphere.txt\", header=False)\n",
    "ds.batch(32).repeat(True).shuffle(200)\n",
    "ds.info()"
   ]
  },
  {
   "cell_type": "code",
   "execution_count": 3,
   "metadata": {},
   "outputs": [
    {
     "name": "stdout",
     "output_type": "stream",
     "text": [
      "          34               \n",
      "   count  351.00000        \n",
      "  unique  2.00000          \n",
      "    freq  0.00570          \n",
      "    Top1  g (225)          \n",
      "    Top2  b (126)          \n",
      "    Top3         -         \n",
      "   dtype  <U1              \n"
     ]
    }
   ],
   "source": [
    "ds.descr_cat()"
   ]
  },
  {
   "cell_type": "code",
   "execution_count": 4,
   "metadata": {},
   "outputs": [
    {
     "name": "stdout",
     "output_type": "stream",
     "text": [
      "\n"
     ]
    },
    {
     "name": "stderr",
     "output_type": "stream",
     "text": [
      "/Users/user/Desktop/projects/ml/examples/./../smarty/datasets/datasets.py:44: FutureWarning: elementwise comparison failed; returning scalar instead, but in the future will perform elementwise comparison\n",
      "  empty = np.where(col=='')[0]\n"
     ]
    }
   ],
   "source": [
    "from smarty.preprocessing.categorical import OneHotEncoder\n",
    "\n",
    "encoder = OneHotEncoder()\n",
    "target = ds.drop_c(-1)\n",
    "target = encoder.fit_transform(target.numpy())\n",
    "\n",
    "ds.add_c(target, columns=encoder.flat_names_())\n",
    "ds.set_target_classes(encoder.flat_names_())\n",
    "print()"
   ]
  },
  {
   "cell_type": "code",
   "execution_count": 5,
   "metadata": {},
   "outputs": [],
   "source": [
    "from smarty.datasets import train_test_split\n",
    "\n",
    "train_ds, test_ds = train_test_split(ds)"
   ]
  },
  {
   "cell_type": "code",
   "execution_count": 6,
   "metadata": {},
   "outputs": [
    {
     "name": "stdout",
     "output_type": "stream",
     "text": [
      "<*><*><*><*><*><*><*><*><*><*><*><*><*><*><*>\n",
      "Starting training model for 50 epochs.\n",
      "Epoch 1/50\n",
      "\tStep 9/9 - accuracy: 0.6342592592592592, \n",
      "\n",
      "\n",
      "Epoch 2/50\n",
      "\tStep 9/9 - accuracy: 0.6724537037037037, \n",
      "\n",
      "Learning rate sheduled to 0.0294\n",
      "\n",
      "Epoch 3/50\n",
      "\tStep 9/9 - accuracy: 0.8391203703703703, \n",
      "\n",
      "Learning rate sheduled to 0.028224\n",
      "\n",
      "Epoch 4/50\n",
      "\tStep 9/9 - accuracy: 0.8599537037037037, \n",
      "\n",
      "Learning rate sheduled to 0.026530559999999998\n",
      "\n",
      "Epoch 5/50\n",
      "\tStep 9/9 - accuracy: 0.8460648148148148, \n",
      "\n",
      "Learning rate sheduled to 0.0244081152\n",
      "\n",
      "Epoch 6/50\n",
      "\tStep 9/9 - accuracy: 0.8530092592592592, \n",
      "\n",
      "Learning rate sheduled to 0.02196730368\n",
      "\n",
      "Epoch 7/50\n",
      "\tStep 9/9 - accuracy: 0.869212962962963,  \n",
      "\n",
      "Learning rate sheduled to 0.0193312272384\n",
      "\n",
      "Epoch 8/50\n",
      "\tStep 9/9 - accuracy: 0.8668981481481481, \n",
      "\n",
      "Learning rate sheduled to 0.016624855425024\n",
      "\n",
      "Epoch 9/50\n",
      "\tStep 9/9 - accuracy: 0.8819444444444444, \n",
      "\n",
      "Learning rate sheduled to 0.01396487855702016\n",
      "\n",
      "Epoch 10/50\n",
      "\tStep 9/9 - accuracy: 0.8576388888888888, \n",
      "\n",
      "Learning rate sheduled to 0.011451200416756532\n",
      "\n",
      "Epoch 11/50\n",
      "\tStep 9/9 - accuracy: 0.869212962962963,  \n",
      "\n",
      "Learning rate sheduled to 0.009160960333405226\n",
      "\n",
      "Epoch 12/50\n",
      "\tStep 9/9 - accuracy: 0.8657407407407408, \n",
      "\n",
      "Learning rate sheduled to 0.007145549060056077\n",
      "\n",
      "Epoch 13/50\n",
      "\tStep 9/9 - accuracy: 0.8668981481481481, \n",
      "\n",
      "Learning rate sheduled to 0.0054306172856426185\n",
      "\n",
      "Epoch 14/50\n",
      "\tStep 9/9 - accuracy: 0.8784722222222222, \n",
      "\n",
      "Learning rate sheduled to 0.004018656791375538\n",
      "\n",
      "Epoch 15/50\n",
      "\tStep 9/9 - accuracy: 0.8611111111111112, \n",
      "\n",
      "Learning rate sheduled to 0.0028934328897903872\n",
      "\n",
      "Epoch 16/50\n",
      "\tStep 9/9 - accuracy: 0.8738425925925926, \n",
      "\n",
      "Learning rate sheduled to 0.0020254030228532708\n",
      "\n",
      "Epoch 17/50\n",
      "\tStep 9/9 - accuracy: 0.8657407407407408, \n",
      "\n",
      "Learning rate sheduled to 0.001377274055540224\n",
      "\n",
      "Epoch 18/50\n",
      "\tStep 9/9 - accuracy: 0.8668981481481481, \n",
      "\n",
      "Learning rate sheduled to 0.0009090008766565478\n",
      "\n",
      "Epoch 19/50\n",
      "\tStep 9/9 - accuracy: 0.8854166666666666, \n",
      "\n",
      "Learning rate sheduled to 0.0005817605610601906\n",
      "\n",
      "Epoch 20/50\n",
      "\tStep 9/9 - accuracy: 0.8645833333333334, \n",
      "\n",
      "Learning rate sheduled to 0.00036069154785731817\n",
      "\n",
      "Epoch 21/50\n",
      "\tStep 9/9 - accuracy: 0.8773148148148148, \n",
      "\n",
      "Learning rate sheduled to 0.0002164149287143909\n",
      "\n",
      "Epoch 22/50\n",
      "\tStep 9/9 - accuracy: 0.869212962962963,  \n",
      "\n",
      "Learning rate sheduled to 0.00012552065865434675\n",
      "\n",
      "Epoch 23/50\n",
      "\tStep 9/9 - accuracy: 0.8703703703703703, \n",
      "\n",
      "Learning rate sheduled to 7.029156884643419e-05\n",
      "\n",
      "Epoch 24/50\n",
      "\tStep 9/9 - accuracy: 0.8888888888888888, \n",
      "\n",
      "Learning rate sheduled to 3.7957447177074466e-05\n",
      "\n",
      "Epoch 25/50\n",
      "\tStep 9/9 - accuracy: 0.8645833333333334, \n",
      "\n",
      "Learning rate sheduled to 1.9737872532078724e-05\n",
      "\n",
      "Epoch 26/50\n",
      "\tStep 9/9 - accuracy: 0.8773148148148148, \n",
      "\n",
      "Learning rate sheduled to 9.868936266039362e-06\n",
      "\n",
      "Epoch 27/50\n",
      "\tStep 9/9 - accuracy: 0.869212962962963,  \n",
      "\n",
      "Learning rate sheduled to 4.737089407698894e-06\n",
      "\n",
      "Epoch 28/50\n",
      "\tStep 9/9 - accuracy: 0.8703703703703703, \n",
      "\n",
      "Learning rate sheduled to 2.179061127541491e-06\n",
      "\n",
      "Epoch 29/50\n",
      "\tStep 9/9 - accuracy: 0.8888888888888888, \n",
      "\n",
      "Learning rate sheduled to 9.58786896118256e-07\n",
      "\n",
      "Epoch 30/50\n",
      "\tStep 9/9 - accuracy: 0.8645833333333334, \n",
      "\n",
      "Learning rate sheduled to 4.0269049636966753e-07\n",
      "\n",
      "Epoch 31/50\n",
      "\tStep 9/9 - accuracy: 0.8773148148148148, \n",
      "\n",
      "Learning rate sheduled to 1.6107619854786703e-07\n",
      "\n",
      "Epoch 32/50\n",
      "\tStep 9/9 - accuracy: 0.869212962962963,  \n",
      "\n",
      "Learning rate sheduled to 6.120895544818947e-08\n",
      "\n",
      "Epoch 33/50\n",
      "\tStep 9/9 - accuracy: 0.8703703703703703, \n",
      "\n",
      "Learning rate sheduled to 2.203522396134821e-08\n",
      "\n",
      "Epoch 34/50\n",
      "\tStep 9/9 - accuracy: 0.8888888888888888, \n",
      "\n",
      "Learning rate sheduled to 7.491976146858391e-09\n",
      "\n",
      "Epoch 35/50\n",
      "\tStep 9/9 - accuracy: 0.8645833333333334, \n",
      "\n",
      "Learning rate sheduled to 2.397432366994685e-09\n",
      "\n",
      "Epoch 36/50\n",
      "\tStep 9/9 - accuracy: 0.8773148148148148, \n",
      "\n",
      "Learning rate sheduled to 7.192297100984056e-10\n",
      "\n",
      "Epoch 37/50\n",
      "\tStep 9/9 - accuracy: 0.869212962962963,  \n",
      "\n",
      "Learning rate sheduled to 2.013843188275536e-10\n",
      "\n",
      "Epoch 38/50\n",
      "\tStep 9/9 - accuracy: 0.8703703703703703, \n",
      "\n",
      "Learning rate sheduled to 5.235992289516394e-11\n",
      "\n",
      "Epoch 39/50\n",
      "\tStep 9/9 - accuracy: 0.8888888888888888, \n",
      "\n",
      "Learning rate sheduled to 1.2566381494839345e-11\n",
      "\n",
      "Epoch 40/50\n",
      "\tStep 9/9 - accuracy: 0.8645833333333334, \n",
      "\n",
      "Learning rate sheduled to 2.7646039288646557e-12\n",
      "\n",
      "Epoch 41/50\n",
      "\tStep 9/9 - accuracy: 0.8828125, 2857143,  - accuracy: 0.8773148148148148, \n",
      "\n",
      "Learning rate sheduled to 5.52920785772931e-13\n",
      "\n",
      "Epoch 42/50\n",
      "\tStep 9/9 - accuracy: 0.869212962962963,  \n",
      "\n",
      "Learning rate sheduled to 9.95257414391276e-14\n",
      "\n",
      "Epoch 43/50\n",
      "\tStep 9/9 - accuracy: 0.8703703703703703, \n",
      "\n",
      "Learning rate sheduled to 1.592411863026042e-14\n",
      "\n",
      "Epoch 44/50\n",
      "\tStep 9/9 - accuracy: 0.8888888888888888, \n",
      "\n",
      "Learning rate sheduled to 2.229376608236459e-15\n",
      "\n",
      "Epoch 45/50\n",
      "\tStep 9/9 - accuracy: 0.8645833333333334, \n",
      "\n",
      "Learning rate sheduled to 2.6752519298837507e-16\n",
      "\n",
      "Epoch 46/50\n",
      "\tStep 9/9 - accuracy: 0.8773148148148148, \n",
      "\n",
      "Learning rate sheduled to 2.67525192988375e-17\n",
      "\n",
      "Epoch 47/50\n",
      "\tStep 9/9 - accuracy: 0.869212962962963,  \n",
      "\n",
      "Learning rate sheduled to 2.140201543906999e-18\n",
      "\n",
      "Epoch 48/50\n",
      "\tStep 9/9 - accuracy: 0.8703703703703703, \n",
      "\n",
      "Learning rate sheduled to 1.2841209263442005e-19\n",
      "\n",
      "Epoch 49/50\n",
      "\tStep 9/9 - accuracy: 0.8888888888888888, \n",
      "\n",
      "Learning rate sheduled to 5.136483705376807e-21\n",
      "\n",
      "Epoch 50/50\n",
      "\tStep 9/9 - accuracy: 0.8645833333333334, \n",
      "\n",
      "Learning rate sheduled to 1.0272967410753622e-22\n",
      "\n"
     ]
    },
    {
     "data": {
      "text/plain": [
       "<smarty.models.lvq.LVQ at 0x1088e7be0>"
      ]
     },
     "execution_count": 6,
     "metadata": {},
     "output_type": "execute_result"
    }
   ],
   "source": [
    "from smarty.models.lvq import LVQ\n",
    "from smarty.callbacks import LearningRateSheduler\n",
    "\n",
    "model = LVQ(learning_rate=0.03, n_codebooks=20)\n",
    "cb = [LearningRateSheduler()]\n",
    "\n",
    "model.fit(train_ds, epochs=50, callbacks=cb)"
   ]
  },
  {
   "cell_type": "code",
   "execution_count": 7,
   "metadata": {},
   "outputs": [
    {
     "data": {
      "image/png": "[encoded data removed]",
      "text/plain": [
       "<Figure size 576x432 with 1 Axes>"
      ]
     },
     "metadata": {
      "needs_background": "light"
     },
     "output_type": "display_data"
    }
   ],
   "source": [
    "model.plot_training()"
   ]
  },
  {
   "cell_type": "code",
   "execution_count": 8,
   "metadata": {},
   "outputs": [
    {
     "name": "stdout",
     "output_type": "stream",
     "text": [
      "<*><*><*><*><*><*><*><*><*><*><*><*><*><*><*>\n",
      "Starting making predictions.\n",
      "Epoch 1/1\n",
      "\tStep 3/3\n",
      "\n",
      "accuracy: 0.8873239436619719.\n"
     ]
    },
    {
     "data": {
      "text/plain": [
       "{'accuracy': 0.8873239436619719}"
      ]
     },
     "execution_count": 8,
     "metadata": {},
     "output_type": "execute_result"
    }
   ],
   "source": [
    "model.evaluate(test_ds)"
   ]
  }
 ],
 "metadata": {
  "kernelspec": {
   "display_name": "Python 3.10.4 ('ML')",
   "language": "python",
   "name": "python3"
  },
  "language_info": {
   "codemirror_mode": {
    "name": "ipython",
    "version": 3
   },
   "file_extension": ".py",
   "mimetype": "text/x-python",
   "name": "python",
   "nbconvert_exporter": "python",
   "pygments_lexer": "ipython3",
   "version": "3.10.4"
  },
  "orig_nbformat": 4,
  "vscode": {
   "interpreter": {
    "hash": "4efdce27b01dda23802f9019223ae4142015490b9d4311347546f2c4d3f7a2c1"
   }
  }
 },
 "nbformat": 4,
 "nbformat_minor": 2
}
