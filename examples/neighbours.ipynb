{
 "cells": [
  {
   "cell_type": "code",
   "execution_count": 1,
   "metadata": {},
   "outputs": [],
   "source": [
    "import setup"
   ]
  },
  {
   "cell_type": "code",
   "execution_count": 2,
   "metadata": {},
   "outputs": [],
   "source": [
    "from smarty.datasets import load_data\n",
    "\n",
    "ds = load_data(\"datasets/abalone.txt\", header=False, sep=\",\")"
   ]
  },
  {
   "cell_type": "code",
   "execution_count": 3,
   "metadata": {},
   "outputs": [
    {
     "name": "stdout",
     "output_type": "stream",
     "text": [
      "\n",
      "DataSet at 0x10adca4a0\n",
      "\tRows: 4177\n",
      "\tCols: 9\n",
      "\n",
      "\tname           \t          dtype\n",
      "\t0              \t            <U1\n",
      "\t1              \t        float32\n",
      "\t2              \t        float32\n",
      "\t3              \t        float32\n",
      "\t4              \t        float32\n",
      "\t5              \t        float32\n",
      "\t6              \t        float32\n",
      "\t7              \t        float32\n",
      "\t8              \t          uint8\n",
      "\n"
     ]
    }
   ],
   "source": [
    "ds.info()"
   ]
  },
  {
   "cell_type": "code",
   "execution_count": 4,
   "metadata": {},
   "outputs": [],
   "source": [
    "from smarty.preprocessing.numerical import StandardScaler\n",
    "# standardize numerical columns\n",
    "\n",
    "scaler = StandardScaler()\n",
    "\n",
    "numerical_idxs = [1, 2, 3, 4, 5, 6, 7]\n",
    "numerical = ds[numerical_idxs]\n",
    "\n",
    "numerical = scaler.fit_transform(numerical)\n",
    "ds[numerical_idxs] = numerical"
   ]
  },
  {
   "cell_type": "code",
   "execution_count": 5,
   "metadata": {},
   "outputs": [
    {
     "name": "stderr",
     "output_type": "stream",
     "text": [
      "/Users/user/Desktop/projects/ml/examples/./../smarty/datasets/datasets.py:44: FutureWarning: elementwise comparison failed; returning scalar instead, but in the future will perform elementwise comparison\n",
      "  empty = np.where(col=='')[0]\n"
     ]
    }
   ],
   "source": [
    "from smarty.preprocessing.categorical import OneHotEncoder\n",
    "# encode first column\n",
    "\n",
    "encoder = OneHotEncoder()\n",
    "\n",
    "col0 = ds.drop_c(0).numpy()\n",
    "col0 = encoder.fit_transform(col0)\n",
    "names = encoder.flat_names_()\n",
    "\n",
    "ds.add_c(col0, columns=names, pos=0)"
   ]
  },
  {
   "cell_type": "code",
   "execution_count": 6,
   "metadata": {},
   "outputs": [
    {
     "name": "stdout",
     "output_type": "stream",
     "text": [
      "\n"
     ]
    }
   ],
   "source": [
    "# set target class\n",
    "ds.set_target_classes(-1)\n",
    "print()"
   ]
  },
  {
   "cell_type": "code",
   "execution_count": 7,
   "metadata": {},
   "outputs": [
    {
     "name": "stdout",
     "output_type": "stream",
     "text": [
      "<*><*><*><*><*><*><*><*><*><*><*><*><*><*><*>\n",
      "Starting training model for 1 epochs.\n",
      "Epoch 1/1\n",
      "\tStep 1/1 - accuracy: 0.2178597079243476, \n",
      "\n"
     ]
    },
    {
     "data": {
      "text/plain": [
       "<smarty.models.neighbours.KNNClassifier at 0x10aee3940>"
      ]
     },
     "execution_count": 7,
     "metadata": {},
     "output_type": "execute_result"
    }
   ],
   "source": [
    "# check how classifier performs\n",
    "from smarty.models.neighbours import KNNClassifier\n",
    "\n",
    "knnc = KNNClassifier()\n",
    "knnc.fit(ds)"
   ]
  },
  {
   "cell_type": "code",
   "execution_count": 8,
   "metadata": {},
   "outputs": [
    {
     "name": "stdout",
     "output_type": "stream",
     "text": [
      "<*><*><*><*><*><*><*><*><*><*><*><*><*><*><*>\n",
      "Starting training model for 1 epochs.\n",
      "Epoch 1/1\n",
      "\tStep 1/1 - root_mean_squared_error: 2.2886277401003343, \n",
      "\n"
     ]
    },
    {
     "data": {
      "text/plain": [
       "<smarty.models.neighbours.KNNRegressor at 0x10aee3970>"
      ]
     },
     "execution_count": 8,
     "metadata": {},
     "output_type": "execute_result"
    }
   ],
   "source": [
    "# check if regression will be better here\n",
    "from smarty.models.neighbours import KNNRegressor\n",
    "\n",
    "knnr = KNNRegressor()\n",
    "knnr.fit(ds)"
   ]
  }
 ],
 "metadata": {
  "kernelspec": {
   "display_name": "Python 3.10.4 ('ML')",
   "language": "python",
   "name": "python3"
  },
  "language_info": {
   "codemirror_mode": {
    "name": "ipython",
    "version": 3
   },
   "file_extension": ".py",
   "mimetype": "text/x-python",
   "name": "python",
   "nbconvert_exporter": "python",
   "pygments_lexer": "ipython3",
   "version": "3.10.4"
  },
  "orig_nbformat": 4,
  "vscode": {
   "interpreter": {
    "hash": "4efdce27b01dda23802f9019223ae4142015490b9d4311347546f2c4d3f7a2c1"
   }
  }
 },
 "nbformat": 4,
 "nbformat_minor": 2
}
