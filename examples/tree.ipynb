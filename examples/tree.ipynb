{
 "cells": [
  {
   "cell_type": "code",
   "execution_count": 1,
   "metadata": {},
   "outputs": [],
   "source": [
    "import setup"
   ]
  },
  {
   "cell_type": "code",
   "execution_count": 2,
   "metadata": {},
   "outputs": [
    {
     "name": "stdout",
     "output_type": "stream",
     "text": [
      "\n",
      "First 5 rows of DataSet at 0x1114d1690:\n",
      "        0                1                2                3                4                \n",
      "     0  3.6215999126434326  8.666099548339844  -2.807300090789795  -0.4469900131225586  0                \n",
      "     1  4.545899868011475  8.167400360107422  -2.4586000442504883  -1.4621000289916992  0                \n",
      "     2  3.865999937057495  -2.6382999420166016  1.9242000579833984  0.10644999891519547  0                \n",
      "     3  3.4565999507904053  9.52280044555664  -4.011199951171875  -3.594399929046631  0                \n",
      "     4  0.32923999428749084  -4.4552001953125  4.571800231933594  -0.9887999892234802  0                \n",
      "\n"
     ]
    },
    {
     "data": {
      "text/plain": []
     },
     "execution_count": 2,
     "metadata": {},
     "output_type": "execute_result"
    }
   ],
   "source": [
    "from smarty.datasets import load_data\n",
    "\n",
    "ds = load_data(\"datasets/data_banknote_authentication.txt\", sep=\",\", header=False)\n",
    "ds.batch(32).shuffle(1000)\n",
    "ds.set_target_classes(-1)"
   ]
  },
  {
   "cell_type": "code",
   "execution_count": 3,
   "metadata": {},
   "outputs": [],
   "source": [
    "from smarty.datasets import train_test_split\n",
    "\n",
    "train_ds, test_ds = train_test_split(ds)"
   ]
  },
  {
   "cell_type": "code",
   "execution_count": 4,
   "metadata": {},
   "outputs": [
    {
     "name": "stdout",
     "output_type": "stream",
     "text": [
      "<*><*><*><*><*><*><*><*><*><*><*><*><*><*><*>\n",
      "Starting training model for 1 epochs.\n",
      "Epoch 1/1\n",
      "\tStep 1/1 - accuracy: 0.9662716499544212, \n",
      "\n"
     ]
    },
    {
     "data": {
      "text/plain": [
       "<smarty.models.tree.DecisionTree at 0x1114d1f00>"
      ]
     },
     "execution_count": 4,
     "metadata": {},
     "output_type": "execute_result"
    }
   ],
   "source": [
    "from smarty.models.tree import DecisionTreeClassifier\n",
    "\n",
    "dt = DecisionTree(max_depth=5, min_samples=10)\n",
    "dt.fit(train_ds)"
   ]
  },
  {
   "cell_type": "code",
   "execution_count": 5,
   "metadata": {},
   "outputs": [
    {
     "name": "stdout",
     "output_type": "stream",
     "text": [
      "<*><*><*><*><*><*><*><*><*><*><*><*><*><*><*>\n",
      "Starting making predictions.\n",
      "Epoch 1/1\n",
      "\tStep 9/9\n",
      "\n",
      "accuracy: 0.9381818181818182.\n"
     ]
    },
    {
     "data": {
      "text/plain": [
       "{'accuracy': 0.9381818181818182}"
      ]
     },
     "execution_count": 5,
     "metadata": {},
     "output_type": "execute_result"
    }
   ],
   "source": [
    "dt.evaluate(test_ds)"
   ]
  },
  {
   "cell_type": "code",
   "execution_count": 6,
   "metadata": {},
   "outputs": [
    {
     "name": "stdout",
     "output_type": "stream",
     "text": [
      "Saving plot to 'my_tree.png'\n"
     ]
    }
   ],
   "source": [
    "dt.plot_tree()"
   ]
  }
 ],
 "metadata": {
  "kernelspec": {
   "display_name": "Python 3.10.4 ('ML')",
   "language": "python",
   "name": "python3"
  },
  "language_info": {
   "codemirror_mode": {
    "name": "ipython",
    "version": 3
   },
   "file_extension": ".py",
   "mimetype": "text/x-python",
   "name": "python",
   "nbconvert_exporter": "python",
   "pygments_lexer": "ipython3",
   "version": "3.10.4"
  },
  "orig_nbformat": 4,
  "vscode": {
   "interpreter": {
    "hash": "4efdce27b01dda23802f9019223ae4142015490b9d4311347546f2c4d3f7a2c1"
   }
  }
 },
 "nbformat": 4,
 "nbformat_minor": 2
}
